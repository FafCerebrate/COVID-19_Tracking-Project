{
 "cells": [
  {
   "cell_type": "code",
   "execution_count": 46,
   "metadata": {},
   "outputs": [
    {
     "name": "stderr",
     "output_type": "stream",
     "text": [
      "\n"
     ]
    }
   ],
   "source": [
    "%%bash\n",
    "cd Data_Sets/COVID_19_Tracking\n",
    "\n",
    "curl -O https://covid.ourworldindata.org/data/ecdc/full_data.csv"
   ]
  },
  {
   "cell_type": "code",
   "execution_count": 47,
   "metadata": {},
   "outputs": [
    {
     "name": "stdout",
     "output_type": "stream",
     "text": [
      "         date     location  new_cases  new_deaths  total_cases  total_deaths\n",
      "0  2019-12-31  Afghanistan          0           0            0             0\n",
      "1  2020-01-01  Afghanistan          0           0            0             0\n",
      "2  2020-01-02  Afghanistan          0           0            0             0\n",
      "3  2020-01-03  Afghanistan          0           0            0             0\n",
      "4  2020-01-04  Afghanistan          0           0            0             0\n"
     ]
    }
   ],
   "source": [
    "#importing pandas and datetime\n",
    "import pandas as pd\n",
    "import datetime as dt\n",
    "#sys import is for running the code as a bash script\n",
    "#import sys\n",
    "\n",
    "#Read in the dataset from pandas\n",
    "covid_data = pd.read_csv('Data_Sets/COVID_19_Tracking/full_data.csv')\n",
    "\n",
    "#print out the top 5 entries of the dataset\n",
    "print(covid_data.head())"
   ]
  },
  {
   "cell_type": "code",
   "execution_count": 48,
   "metadata": {},
   "outputs": [],
   "source": [
    "#What is our total number of cases worldwide?\n",
    "#What is our total number of deaths worldwide?\n",
    "#What is our worldwide death rate? \n",
    "#What is our total number of new cases?\n",
    "\n",
    "def COVID_TERROR_PANIC_RUN_FIRE_EVERYWHERE(country = 'World'):\n",
    "    #Corrects the case of the country\n",
    "    country = country.title()\n",
    "    \n",
    "    #If the country isn't valid then return False\n",
    "    if country not in covid_data['location'].values:\n",
    "        print('No.')\n",
    "        return False;\n",
    "    \n",
    "    #Grabs the rows from the table with the specified country\n",
    "    country_rows = covid_data[covid_data['location'] == country]\n",
    "    \n",
    "    #Gets the last date entry of the country\n",
    "    max_date = country_rows.date.max()\n",
    "    #Formats the date into Month Day, Year\n",
    "    formated_date = dt.datetime.strptime(max_date, '%Y-%m-%d')\n",
    "    formated_date = formated_date.strftime('%B %d, %Y')\n",
    "    \n",
    "    #Grabs the total cases and total deaths using max\n",
    "    total_case = country_rows.total_cases.max()\n",
    "    total_death = country_rows.total_deaths.max()\n",
    "    #Grabs the new_cases of the most recent date\n",
    "    date_new_case = int(country_rows.new_cases.tail(1))\n",
    "    #Grabs the total number of new_cases of the most recent date\n",
    "    total_new_case = int(covid_data[covid_data['location'] == 'World'].new_cases.tail(1))\n",
    "    \n",
    "    #Calculates the death rate using the total deaths and total cases\n",
    "    death_rate = (total_death / total_case) * 100\n",
    "\n",
    "    #Prints up the information in a fancy way\n",
    "    print('The total number of {} cases as of {}: {}.'.format(country, formated_date, total_case))\n",
    "    print('The total number of {} deaths as of {}: {:.0f}.'.format(country, formated_date, total_death))\n",
    "    print('As of {}, our {} death rate is {:.2f}%.'.format(formated_date, country, death_rate))\n",
    "    print('On {}, there were {:.0f} new cases reported in {}.'.format(formated_date, date_new_case, country))\n",
    "    print('On {}, there are {:.0f} new cases reported.'.format(formated_date, total_new_case))"
   ]
  },
  {
   "cell_type": "code",
   "execution_count": 49,
   "metadata": {},
   "outputs": [
    {
     "name": "stdout",
     "output_type": "stream",
     "text": [
      "The total number of World cases as of March 26, 2020: 467710.\n",
      "The total number of World deaths as of March 26, 2020: 20947.\n",
      "As of March 26, 2020, our World death rate is 4.48%.\n",
      "On March 26, 2020, there were 50649 new cases reported in World.\n",
      "On March 26, 2020, there are 50649 new cases reported.\n",
      "\n",
      "What country would you like to see COVID-19 stats for?\n",
      "united states\n",
      "The total number of United States cases as of March 26, 2020: 69194.\n",
      "The total number of United States deaths as of March 26, 2020: 1050.\n",
      "As of March 26, 2020, our United States death rate is 1.52%.\n",
      "On March 26, 2020, there were 13963 new cases reported in United States.\n",
      "On March 26, 2020, there are 50649 new cases reported.\n"
     ]
    }
   ],
   "source": [
    "COVID_TERROR_PANIC_RUN_FIRE_EVERYWHERE('World')\n",
    "\n",
    "#grabs an input on which country to get stats for\n",
    "input_country = input('\\nWhat country would you like to see COVID-19 stats for?\\n')\n",
    "COVID_TERROR_PANIC_RUN_FIRE_EVERYWHERE(input_country)\n",
    "\n",
    "##The code to make it run as a bash script inside the bash shell.\n",
    "#if __name__ == '__main__':\n",
    "#    print('Program Starting')\n",
    "#    print('\\n')\n",
    "#    for i in sys.argv[1:]:\n",
    "#        COVID_TERROR_PANIC_RUN_FIRE_EVERYWHERE(i)\n",
    "#        print('\\n')\n",
    "#    print('Program Ended')"
   ]
  },
  {
   "cell_type": "code",
   "execution_count": 50,
   "metadata": {},
   "outputs": [],
   "source": [
    "#A bash script to download the data set and run this python script\n",
    "\n",
    "##!/bin/bash\n",
    "#cd ~/datax/covid19/\n",
    "#curl -O https://covid.ourworldindata.org/data/ecdc/full_data.csv\n",
    "#tar -czf covid_archive.tar.gz full_data.csv\n",
    "#python3 ~/datax/covid19/covid19_world.py\n",
    "\n",
    "#In the cron, type crontab -e to acces (runs everyday at 10:50am, appends new data to covid_stats.txt:\n",
    "#\n",
    "#15 10 * * * bash ~/datax/covid19/bashscriptname.sh >> ~/datax/covid19/covid_stats.txt"
   ]
  }
 ],
 "metadata": {
  "kernelspec": {
   "display_name": "Python 3",
   "language": "python",
   "name": "python3"
  },
  "language_info": {
   "codemirror_mode": {
    "name": "ipython",
    "version": 3
   },
   "file_extension": ".py",
   "mimetype": "text/x-python",
   "name": "python",
   "nbconvert_exporter": "python",
   "pygments_lexer": "ipython3",
   "version": "3.7.4"
  }
 },
 "nbformat": 4,
 "nbformat_minor": 2
}

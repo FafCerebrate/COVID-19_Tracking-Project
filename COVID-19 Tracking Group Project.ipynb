{
 "cells": [
  {
   "cell_type": "code",
   "execution_count": 1,
   "metadata": {},
   "outputs": [
    {
     "name": "stderr",
     "output_type": "stream",
     "text": [
      "\n"
     ]
    }
   ],
   "source": [
    "%%bash\n",
    "cd Data_Sets/COVID_19_Tracking/\n",
    "\n",
    "curl -O https://covid.ourworldindata.org/data/full_data.csv"
   ]
  },
  {
   "cell_type": "code",
   "execution_count": 2,
   "metadata": {},
   "outputs": [],
   "source": [
    "import pandas as pd\n",
    "import datetime as dt"
   ]
  },
  {
   "cell_type": "code",
   "execution_count": 3,
   "metadata": {
    "scrolled": false
   },
   "outputs": [],
   "source": [
    "covid_data = pd.read_csv('Data_Sets/COVID_19_Tracking/full_data.csv')\n",
    "\n",
    "#covid_data"
   ]
  },
  {
   "cell_type": "code",
   "execution_count": 39,
   "metadata": {},
   "outputs": [],
   "source": [
    "#What is our total number of cases worldwide?\n",
    "#What is our total number of deaths worldwide?\n",
    "#What is our worldwide death rate? \n",
    "#What is our total number of new cases?\n",
    "\n",
    "def COVID_TERROR_PANIC_RUN_FIRE_EVERYWHERE(country = 'World'):\n",
    "    #Corrects the case of the country\n",
    "    country = country.title()\n",
    "    \n",
    "    #If the country isn't valid then return False\n",
    "    if country not in covid_data['location'].values:\n",
    "        print('No.')\n",
    "        return False;\n",
    "    \n",
    "    #Grabs the rows from the table with the specified country\n",
    "    country_rows = covid_data[covid_data['location'] == country]\n",
    "    \n",
    "    #Gets the last date entry of the country\n",
    "    max_date = country_rows.date.max()\n",
    "    #Formats the date into Month Day, Year\n",
    "    formated_date = dt.datetime.strptime(max_date, '%Y-%m-%d')\n",
    "    formated_date = formated_date.strftime('%B %d, %Y')\n",
    "    \n",
    "    #Grabs the total cases and total deaths using max\n",
    "    total_case = country_rows.total_cases.max()\n",
    "    total_death = country_rows.total_deaths.max()\n",
    "    #Grabs the new_cases of the most recent date\n",
    "    date_new_case = int(country_rows.new_cases.tail(1))\n",
    "    #Grabs the total number of new_cases of the most recent date\n",
    "    total_new_case = int(covid_data[covid_data['location'] == 'World'].new_cases.tail(1))\n",
    "    \n",
    "    #Calculates the death rate using the total deaths and total cases\n",
    "    death_rate = (total_death / total_case) * 100\n",
    "\n",
    "    #Prints up the information in a fancy way\n",
    "    print('The total number of {} cases as of {}: {}.'.format(country, formated_date, total_case))\n",
    "    print('The total number of {} deaths as of {}: {:.0f}.'.format(country, formated_date, total_death))\n",
    "    print('As of {}, our {} death rate is {:.2f}%.'.format(formated_date, country, death_rate))\n",
    "    print('On {}, there were {:.0f} new cases reported in {}.'.format(max_date, date_new_case, country))\n",
    "    print('On {}, there are {:.0f} new cases reported.'.format(max_date, total_new_case))"
   ]
  },
  {
   "cell_type": "code",
   "execution_count": 41,
   "metadata": {},
   "outputs": [
    {
     "name": "stdout",
     "output_type": "stream",
     "text": [
      "The total number of World cases as of March 17, 2020: 179112.\n",
      "The total number of World deaths as of March 17, 2020: 7426.\n",
      "As of March 17, 2020, our World death rate is 4.15%.\n",
      "On 2020-03-17, there were 11594 new cases reported in World.\n",
      "On 2020-03-17, there are 11594 new cases reported.\n",
      "\n",
      "What country would you like to see COVID-19 stats for?\n",
      "united states\n",
      "The total number of United States cases as of March 17, 2020: 3503.\n",
      "The total number of United States deaths as of March 17, 2020: 58.\n",
      "As of March 17, 2020, our United States death rate is 1.66%.\n",
      "On 2020-03-17, there were 1825 new cases reported in United States.\n",
      "On 2020-03-17, there are 11594 new cases reported.\n"
     ]
    }
   ],
   "source": [
    "COVID_TERROR_PANIC_RUN_FIRE_EVERYWHERE('World')\n",
    "\n",
    "input_country = input('\\nWhat country would you like to see COVID-19 stats for?\\n')\n",
    "#input_country = input_country.title()\n",
    "COVID_TERROR_PANIC_RUN_FIRE_EVERYWHERE(input_country)"
   ]
  },
  {
   "cell_type": "code",
   "execution_count": null,
   "metadata": {},
   "outputs": [],
   "source": []
  }
 ],
 "metadata": {
  "kernelspec": {
   "display_name": "Python 3",
   "language": "python",
   "name": "python3"
  },
  "language_info": {
   "codemirror_mode": {
    "name": "ipython",
    "version": 3
   },
   "file_extension": ".py",
   "mimetype": "text/x-python",
   "name": "python",
   "nbconvert_exporter": "python",
   "pygments_lexer": "ipython3",
   "version": "3.7.4"
  }
 },
 "nbformat": 4,
 "nbformat_minor": 2
}
